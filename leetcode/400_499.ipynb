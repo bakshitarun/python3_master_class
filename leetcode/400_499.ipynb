{
  "nbformat": 4,
  "nbformat_minor": 0,
  "metadata": {
    "colab": {
      "name": "400_500.ipynb",
      "provenance": [],
      "authorship_tag": "ABX9TyOMkNRA5mVuATiFl30KuX22",
      "include_colab_link": true
    },
    "kernelspec": {
      "name": "python3",
      "display_name": "Python 3"
    },
    "language_info": {
      "name": "python"
    }
  },
  "cells": [
    {
      "cell_type": "markdown",
      "metadata": {
        "id": "view-in-github",
        "colab_type": "text"
      },
      "source": [
        "<a href=\"https://colab.research.google.com/github/bakshitarun/python3/blob/main/leetcode/400_500.ipynb\" target=\"_parent\"><img src=\"https://colab.research.google.com/assets/colab-badge.svg\" alt=\"Open In Colab\"/></a>"
      ]
    },
    {
      "cell_type": "code",
      "execution_count": null,
      "metadata": {
        "id": "o8lo3athuGOO"
      },
      "outputs": [],
      "source": [
        ""
      ]
    },
    {
      "cell_type": "code",
      "source": [
        ""
      ],
      "metadata": {
        "id": "tU_sDtFzuIkc"
      },
      "execution_count": null,
      "outputs": []
    },
    {
      "cell_type": "markdown",
      "source": [
        "**448. Find All Numbers Disappeared in an Array**\n",
        "```\n",
        "\n",
        "\n",
        "Given an array nums of n integers where nums[i] is in the range [1, n], return an array of all the integers in the range [1, n] that do not appear in nums.\n",
        "\n",
        " \n",
        "\n",
        "Example 1:\n",
        "\n",
        "Input: nums = [4,3,2,7,8,2,3,1]\n",
        "Output: [5,6]\n",
        "Example 2:\n",
        "\n",
        "Input: nums = [1,1]\n",
        "Output: [2]\n",
        " \n",
        "\n",
        "Constraints:\n",
        "\n",
        "n == nums.length\n",
        "1 <= n <= 105\n",
        "1 <= nums[i] <= n\n",
        " \n",
        "\n",
        "Follow up: Could you do it without extra space and in O(n) runtime? You may assume the returned list does not count as extra space.\n",
        "```"
      ],
      "metadata": {
        "id": "d3hKgdqkuOCw"
      }
    },
    {
      "cell_type": "code",
      "source": [
        "#448\n",
        "class Solution:\n",
        "    def findDisappearedNumbers(self, nums) :\n",
        "        for n in nums:\n",
        "            i = abs(n) -1\n",
        "            nums[i] = -1 * abs(nums[i])\n",
        "        res = []\n",
        "        for i,n in enumerate(nums):\n",
        "            if n>0:\n",
        "                res.append(i+1)\n",
        "        return res\n",
        "        "
      ],
      "metadata": {
        "id": "N1tvTVJiuInz"
      },
      "execution_count": 3,
      "outputs": []
    },
    {
      "cell_type": "markdown",
      "source": [
        "![image.png](data:image/png;base64,iVBORw0KGgoAAAANSUhEUgAAAaUAAAEVCAYAAABAGPrbAAAAAXNSR0IArs4c6QAAAARnQU1BAACxjwv8YQUAAAAJcEhZcwAADsMAAA7DAcdvqGQAACtuSURBVHhe7d0NVBTX/TfwrwRRI8QgItH6gmLQBKwaYyKYCKZqU4umx6Z9LPrXRB/1MY2JrTnxKfbEx5xoa05eNJrY6F8TPUo85289f5WYfzWNYIOYGkUUfIsvGF8REA0igmR97p25uzu7LLiLwF7k++mZMi93Z2bXmfnN7947kxY//vjj7WvXriE0NBRUXUlJCX8bIqJG4hKU5AWYiIjIX1yC0q1bt9Rs8tX169eZUZELeZMXHByspojIGwHqLxERkd8xKBERkTYYlIiISBsMSkREpA0GJSIi0kZAixYt1CgREZF/Bdy+fVuNEhER+Rer74iISBsMSkREpA22KRERkTbYpkRERNpg9R0REWmDQYmIiLTRwmaz3b569SrfEn6X+JZwcse3hDeeyhvFKMn/BiVnvjGmg9q2R5fHJyDo/jBjmpoOtikRUZN3KuMDFBzZpqbETWLhd8Y8+ZeaFlbfEVGTdmrXEiNT6jn0VfT5xXxjkONy3rlv16lS1FTc1X/kL++zuUjNVRNuwofPwqxh4Wrq3len6ruCbfjjpBXYrSZNo7Dyf6ahr5pqWAXYMms6Fh5Vk1Kfafh88SjUudLD+E7n8GJdv4M/f5P9KzA4BfW2rTpX3x1Oxdz1eWrCyfdzKg+pc1OB8QuQ/KiadQ86KwJP0P3tEfHoKDXHJIOVzJRkkGI1XtNxV88pxfxuARYsMIfkWPOksU/XPSAVIn2xCHaH1eQ9T15w/xt71PD5jJOY+uwKHFJLG4y8+D87HenDPnZsWw4re53DBVXEf/z0m1RzEB88OwdbCtRkYwofgVnqXDKHZHT8cjHmLk4XZwhZdX18QrWAJLXt8LDxt7LsivGXmga2KWkm7LnxSMZJnG7QC6G42IpsJHLhf+O95yLUPFPflxsrS/Ne4/wmuotB8oJZGIEdWL+TYakmssrOPtjdssxzX0b6qbfed7Iqb8dDbtULhelYvHiH487OtfrBrFpwVFLEJmPB8EKX8uITGDFrFhLVR1yrC53Lappv8rCd38WY47Xun2/qXn3nXtUl787XI3LNIowR8aJ48xz8cmeCa5WarGZa20XNM6vgZMbz4tnpmJpmFomf8XG1gGPncZ01OLTsV451SskikL3ymJqQXKrbeiNlYQLSU9y+k1uVXG375s1vIrnul2v1nvH9lh9TU2Kf1OeMz+BN7Hn5p2qZKnt2vDnPWn1njDsbzuU29oj5vrir6rvtnTFrVqI4mt1UWyZrFhZjh+MgFhmWY5m9+m4WOm93lrEe54U7F2NxTn/XbXnYvss5Js6hZKS6ne+u+xE+PBn9c1JxYaS16rCWfTWqLMXxNR5IlVWX1vPUC7KaTrYfeRtwZHVe2/CHRYb1C1btaabhMiXjgn8A/We5Vj+Y1XLy4EzFZUd1n7gDfEjMDk/ELDkujtKY8eZ8l4BUYKnSGN/fXCBOvBxxitirOWYNB3ast1dx1LAdY1Ft++c/h5a9gdSk8Y6Lr7d2L5+OnfGqymvhKDH9Xo3VThfOHkP8sIF3CEgy2KmLuL0qbc005Kf8Ch/stxcxg43MuMwyfwTWurUHGWUykLjGXuZNRIp9dazDC+6/iSO4qP0yqvdmbYNxORLB5JfLo5zVfyJI1slj04x9TTaCmlyXbwGpwYR3RnjhBVw2JsyL/IF+zmrz5IgdWPyZa3tU3npxtTfOJ+dxvtiHbKvaudcvx60tWQWbCOd5OF5kdI7gY/BmX0UQzelnLvchIEmXj2zzKQOSZUvO7EHB4S/UHNJFg737Lu/LHcDw8ZaMJQYjhocjL8d5EHaMsC8MR+KwWg5CEUB25MYg2Xo392iiWreYbzmAw2P7W05ak6fteLN/jWMbpj77KwxWgxFYLHfyXkt605nBPPYcUvocQ/55Ne2iAKdPAJFd7xD19m/GwqMiA7HuS8QozJ3RG6m7DxqTh/5LBCDrdhGBMX+ahng1JckymPFHS5D9KcZb1uFZLb+JCHKfpLnul1G9dzQDmfYg3KcLOqtRPDbK5wCvv8solBf8w+LCjxEYb8nuY4aPQHhujrNmQAj3cJwXiuPcq7BknHvhGDHeeu6JTClWjUtyPwrdzsNh442bSwev9lVsZ7hvwciurl2/y9hlXDsNlCkVolBcIAplw+zcuY5h8ZfiNCgQy8TBF9NPBID1Yr4XDbeFuQdQKO4QO6rpamTWY9+OW/Wf5+3Uvn+Ny9movzIJSF2r7vh9FO8hyOSfrbkRprZlUvHZk64XdyWsaxRw4pzYRzO4edquk1lGZnH2ACMHo2rNWEdNavlNzp8TmZhr0Br8rMikoILwY4NFgBLZkpjvSzbWtHREuLi2FxaIW69CkW1YjmHz+FdBS3HelJnCI2o8k6oTN3iFans1MfajtvNT8G5fa99OTWrLkEK7DzY6QlDT0aBvCbf2xnMMKtsJH2YuM1J4cYDesTpBnFiejldZJz7XWg03S9x9qWVSbdupaf/8pe/LHyMFK7Bgc+0B4+5EoEcvESjuEJQMvbrcsc3pjhmXINuQ7FVtjsHLbueefxNn0LIOZsb2U7wip1VV42C/9NprONVu0Kr10pODtU21Htwh4BhqOD9dNMa+upEBSQamiEeq984jPTVQpiQOUHGtKrxkrUTzzOhWLgIJvtzhUuVgZdzZuVVJmAqRl1OImPF3PrBdt+P9/jWuCIyZKNuDNjsupEZm4sbIYu5C399MQ3za+lq7OhvbTdtT7YJubNsIVmZwq1YNZ2Qydj4EwBq5/SY/6YJ4b3riRYzCeyI4rUzahk9UQOvctbfx10q2rzUdedghsvmYkerGTp4XblXV3jCyFhVEPGVNxnI7ow3rAPJc7hnNmgY7z+fnZVywfKau+3q3Cg6bbU321w+R/hosUzLri1NdOw4ctk/nIdXawGlUEbi6bK1Ge3QERoS7feZwOtILzeDibAcqRPp6a/Vdzdupff/8yGgP2oapy9TFXl6Ej67AekvnggWOnmV1ZLQNAQsnVa/iOrRMZRbu+yEZ2wZSfmO25/SNF3efLsHtID5w6bFmD4BvuG5n/wrfqtas+yL2/cWkY1j4F2s1ZwG2LDOnizevsOyPWX1oZwZay/6K/bD2LPSspra5RmZUUZuddhy92TydF+7HvJC33tL7VKxn/Zdwtt0YQWcHdtiPe2O5NZrEoH94oQiGznUW7lzv2onh0X6IEVvYYamFyPvMsk3Jy32tb/LVQ0e/mOdTJwjyr7t6o4OV7KFTrUu40c3TctA5uoCq3jqOY1g+g5Es/l9xfM7avbumz4gD29HlWzbI9seB9Rcwwljm7XYUl+60vqm/LuGC6o5s737t0sVZvnFh4jn80kOXcGc3a0/zPDC279pbzrW7trke5xsfnN2rHVy6To/CyjVd8In7d3IpI9T21givfhP3/bJ0VXfblnv3c5eu5Elv4vOu6z13CVdFnL99I3cJr/ZGB7dj18F6/EvWc8ZchvHJgCUwyZ6t1jc8GN3C7YFIngMjL2BxLd3OZbX3iEti2uV8d90PWXshu6G7dgmvZV+N7yz+HT1+x9rJgCMDT10Ehz9svJKI9MG3hNcTviWc3N27bwk3g5RrwHEnA9AOdHZ5ZrDh2F8p5Ct7mxPpg290ICKfmNV3MehXY0ASIUlW34X3R0wjBCRJ/mcqZNYjH4T1dpCdHxiQ9MNMqZ4wUyJ3/O8pEfmOmRIREWmjQZ9TIiIi8gUzJSIi0gYzJSIi0gYzJSIi0gYzJSIi0gYzJSIi0gYzJSIi0gYzJSIi0gYzJSIi0gYzJSIi0gYzJSIi0gYzJSIi0obLW8LlW42pblq3bo02bdqoKSKgvLwcN2/eVFNE5A2X//IsERGRP7FNiYiItME2JSIi0gYzJSIi0gYzJSIi0gYzJSIi0gYzJSIi0gYzJSIi0gYzJSIi0gYzJSIi0gYzJSIi0gYzJSIi0gYzJSIi0gYzJSIi0gYzJSIi0gYzJSIi0gYzJSIi0gYzJSIi0gYzJSIi0gYzJSIi0gYzJSIi0gYzJSIi0gYzJSIi0gYzJSIi0kaA+ktEROR3DEpERKQNtikREZE22KZERETaYKZERETaYKZERETaYKZERETaYKZERETaYJdwIiLSBoNSU3PoQ8S9/zTiVqWhWM0iIrpX+L9N6fha/FpeZOWwIQuVajaRN2xlhTh3uQw2NU1ETVsLm812++rVqwgNDVWzGtfxrb/FpBMX1VQC5k96CyPbq8mm6Op32JrxGbb8EIe//scIhKnZ9UZmSl9uAB6Yg7QpSfW//ppcycPXBwqq3TQEtGyL0J9EI6ZnKALVvMZzDtnpx1EiIlK7h5/BwK5qtk6qSnAq7zjOlZShyoicAQgI6YKBg3ohxChgqio5hbxj51Byo8oMsAEBCOkyEIN6WUsR3fv8W31ny8U/TsmAlITREXJGBnYeuS5Hmq6z27Hw1A7kVlaoGfeegMBABMrhvgDYbpWhOD8bew4XN2i2Uno+D9l7diHrSImaI7VFmyDxp0UbtG1rztFKeT727c5GfrEISCJktw0JRUhrcdhXVIhpp/Iz+7A7Ox/FIiBBBPmQ0BC0aWFDRaW1FFHz4NegVHlgBzbKK1mHwZgePdaYl563HReMMdJTO0QOHYqhckgYin4Pyagg/i0v5eP7BoxKxRcLjCziR5fa5lD0iX8GzwyLQx/tsutynDh4CtdEXAmK6IuhiUPx5KABGBSfiMTBvcWvqJSfwMGT10SQCkJE36FIfPpJDBowCHEJiRgc7ShF1Gz4sU3pOnbnbTKqg0ZGDURY9GMYKWeX7UDWWTniWfGBDZi3cgJGqnaokcv+jKX7r6ilSuF+pK6bhd8tUW1VSybgT5uyXDsGlF3E7s1/xqSlP3OW2bwfxbfUcqkgDbON7byOrQWVyM/8ELNV+YSlM/Duzu9w3XEhzsVSWVZWrUk/LEKS8dmnsfSQOUuqPJ+FT9dMQZLaN7n/nx5w23+Dub0/LfuF2j+5vTOatbkFICzqIZGvSOUou2qMkHT5BC6Uib+tO6NfTLhL1abMNO13g4UnL0AWa9O5H2LCXUqJbJT9kKj5ue//CTdv3kSbNm3UrEZyJQMfZ2UgHwmYOPxZRD3YAS1OrMc/b1xGftXT+F/Rbq0ltotI/2wGpuTuwMnKa0BgNKJaBeN6RQ72iXX870c6GsUu7F6EaV98gO03LuJqi/aIbt0VIT+ewoGrYRgW9wSMUmUigKx5Ae8WiYv8fU9hTNdoBFzPxb+LP8fG4x3x837RCJGPb5Udx/ZDmTiLCHT9IQMLD38NtOoq1lGKy1UXcfjSZvyr8AmM6dMR9+EyTuZ8J7ZZgWKbCB0B5rbDWoahb6/n0LeDCDOHPsSkre/jn+UViAhNwqjg+5Bfthf/Or0JR26OxM972NsPKpG7aTImHc5EvlhXSMtoRAYW4Jvz63GkKARnK86J/XgKyY9F4371iQZXXojvL5XhR7RGaI/OeFDNxs0inD3/g7jTby0CVBe0DyxB3tdZyD1xGlcCeqCzo6B9/nncaNcNHeXhdmYfvtp/FKeLW6Bry0vYtz8Xx06ewukzZ1FUGYxOYfejhWzLyspFkaoN/fH6JZw+fdr4TI/Ot6uvU5U/cf4GHmh3A8f2HcCRE3Kd53FV5CcRDwbhyon92H/wKE6cEus5W4QbQe3RMaSluQHBdi0fBw8cxNHjJ3FKbOvM95dQYgtGeGgbI5iUHM1C1sHvcPbqfejUqZ34t6+u4NQxFNywoc1DfRAV1krNdVeAU0cLcMPWBg89EoUwM+n0zl1+T1vZBRw7mIvcY98Z3/F0/hlcutEWXTvqWA9KzYnfbsWKc3YgXY60T0C8UfUSjMd7JsgRXDidheNuVUEXvnoTfyo4I/Y4Dq+N/gIZM1dhzf9Zh+1TVuO1cFXo7CbM+yZNBLogxMesxo6Zm0WZVfhs5hdYExOtCl1H+qZXkSoucvG91yHt5bcwe+wbWPn7dUh5QISDq4uwNMu9XWsfNhbH4sMpX+Azsb41M/+Jv/eLE1sB8k9tQLqR6MQiWS5LSJIT4utMxXtyWgzJvcW0CMILvtog9i0OM5/bjM8m/QEzJyxH2m/nIF4Eod0HPsR2e8J0TGSDZ8R3RXckP/MFtr8s1vPSZmRMfBudK7LMMlqowoVTl0SOJASHo1tN1947uXkOe3Ivo6p1O4S0EdmCrQql5w4h57w4CIJC0C40FG1VzAhoFWJ0ygl94A4XT1sJjuTko6ylWGcrcZiL4F5yKgc5OXuRc7YcrdqFQG4KVaUoOHYY+Sro2YrysHvfKRSXB6Ct3E5oCFq1KEdJfjb2Hi81C91RJUpl+5A4vVoHlSLv37vw1VdfGUO6bGO6pg7uilKYxVojqDQPe3eZZb7amY6s7HzYi9WqLt/Tdg453x7FhR/KxabN3zOkTQDKy2XORuRffgpKIuv5zry4xncbKMKRKbjXYHGBFm6twT/yjFnKd9h+NFf8DcLzQ97Cr3vZPyE88DB+/XSsMXr84AYYpTq9hb+MfBjB9m8XEIzokSNE2BAK0rG1SGYy4/Dis92NwGII6IT4nnHGaPrZQ27VZJ3w4tCJiBVBy67zM7/HK0ZymYHMo3funFGc8zm2y2ts94lI7mm5Je4Uj0RjvRk4dMrcau7RNUa7WtBP/ojp/SzfNUwEtCfMtjf/uYb8XbuwSw4Zu3C0SDaahCG6b0/nb+kr8bVD+z6FONnmEvcUokPlP5wN1wrFrxDcDX0HDECESuQDQ3thgJgeEG2/E6lBVRVadXsSTz0h1jnkSXQzYlgVSopvIaJvvNlu81Q0zE1dQ/FluVxc4EXmUhkQgp6DnxJlxHZkuQGdITdffilf5DZiX/vE4ZlnnsHQAd1q+M5lqFDVwNfOHEXBzVZG54UgGTNuluDUARGYZCQvq4BZTPymRwpQLgJwaHAQAm7bUF5yCtn7882AX5u6fM+r11D2o/gbFIGYuEHG7zlIfN8nHzF6GxH5lX/alI7vQKpxUxaHxEctLdQR9gt0JTYe2e8MDAXHcMg4exMwMLqmS98VHLtkdi1P7Na35gvk5TPYLf/aNmCqvc1JDUkHVBZSVgzXe+IExD6sRh26o3sHc+x6hWsI8+RiibnuyjMzXLYZ9/5zWPiDsQgXSmVwu4LTMmgKiV2iq32PoFZ1vvTXG5u4EFbJQVzYAkIiMeipfuiigkadtH0ID3dw3EGgc6iZBcnt1FlAO3SKtO9UG4SFqN/Nuq2AzlCbEhsTQ0kBSuRPbyvFqSyVtchh7wUzOFRV3jlIuBArbdsTcUPNzgtPDe2HCLkbP17DxbOWI0wUC4mKw9DBIkA88RSG/jTC+He3/XARZ+90v1OX79m2DYyktrIAR77Nw/fFlWK2yAzFfCJ/88u7744fS1M97LKwMNXzBbryfAa+rdarWtxtelFF9ECQFxfuwIF4vudEvOBp6B5pnrQWre3XTIcruOJtbY5F2ANjPW9TDPEdXffbq+/R6Nqhp8gSEkUg6iZSUVtpPvZ968UdfW3uC3QJvgEtqv3YvgsMUh0w3LhsS2zHevjflumDEBiCzpGRiKw2dPH6ubD7jPUGIqxrpJFlGQLC0Lm9ufXyH4rFtlVrVGAYunR3BoSADiKIGMXKUXqn13bU5Xu26olYkRWFBIrz7IcCnMj5Gum79uJo4V3cBBDVk3o4+33keDZJhJiW0Yhu4z50Vw8VbsLWb9Vt4oPiZDZG0pCVV1NWEowwdXZuOZXrVv1m0aE7Hpd/q7oj7tmpmP6ch2F4rKNK0fQdTtuf77WryMchI4AGIfqhO/dHbv/gQONvcdvBeNHTNsXw6xi5Vef32H1Rtiu5ulAgKyj9LyAoDL0e74VQcV21/ZCPXKM+qjbiblzepTcFtkAER/ZEz57ug7iQqyK1C0VwW3lqVaHypucvLXvgITQYZjGRgXksFiDKqdF61qZTDAYNTcRT/aLRpZ3YSFUpLuTlONrWiPyl0YOS49kk2eD/G7MjgOvwN7ymrvHpJ7JghKVWA/Hz7p3ESCU27nkf261dxn/4Dn//l9ne9HjMOCN4VZ5/D+9kWqKI7TqOb99htDeh00AkGhf9TVi6Ocu1C7gs9+VabJcNBy724dOMDGdZUe7bz98zv0fLSRgmOzK4u/4djlnajTs/PNRs07r4IZb+260LuPwOm3eoLutB+GlX1eHj1Er8XbUzGc6m4d08PYKSIaALYnq2EweRDaX5uWY7icik2qo0s0zchduvteVnzqG4Pm7Eb3u+yNeL9mLf5RlhK0H+UdeHgasKj8Lx4hEvdIkINU6ua+eOoNi+IlsxLlwx/z1DQuWR2gURRmPPNZyzbM9WdMGsRhQhMFQe9vXtSiHMpCgAQWFdED3wEYTLjiS2cpSxrwP5WSMHJeezSWg/AsM8tqsGIzFGNeZf2YR/GAEoCLE/fwMvyMf3K9Iwb6N8vmcKJv1tAkaumox3Co3SCOo7FfN7ynaYM9j6798azx5N+tsU/G7pLzAp77hZCJ3w65F/QKz45vnnX0fSR88ZZeSQJMsdykX1m8VOCLrypihrrm/Sh89hpr13XMI4RFt/xY7dzc4atk2Y/Z+y/AR8Kp9T6joWc/vGGvu2MfM5JCw1tzlJbD9Bfgd7n2chOG4SZsrvasvCO5t/Ibarym3cgOhIf3d0cBXU9VF0kUHeVor8XFmNF4DO7c18oqowD1/v2Yvsf3+Nb86UQyYHddXufrMyqrIgD1l79yLr4PfGdP3qgj49ZJAV27mUg12ZYt+zs7F3zy7sOnQB19T9gewSLtuadmV/X3NG3ikakQ+INVUUIGfX19i79xvs2pWDAvmB+7shurt50HSOjkQ7kW3at2ds66D5Oqe2XcU6rMdWfSn9Hof+tQvf7M02v1/WERTKG66W7dDB0YWfyD8a4pCv2ZUs/KNIjgTh+b4JblVkTkFi2fPGnuXif46p29O2sZg+5b+wtPcIPN4yGKW3juN4RSk6tR+H+f3t3b1F8HpuFTYN+z1GBndHiO0Mjpfno7RlApKfSIK9FMSFfWXyEswMH4hIXBFl5LqKEPbgOKSM/L/qlUdWkUgevQ7vdu2M4gpRVtxlhrUdi5TRf8PMvs6ae0NEEmY/ORaxgTKoiO1XhCBEVcdFDl/u2LdWVWI9Yrv5P3ZAfPc5WDnG8h67gIeR/B+rMb97HMICKsU281EcmIjXxPamW3vuaaENej3axWg3ke1Lh89WIigqFn0eCkFgCxGYbpTiWkUrdH70EbMHWB2F9nkEXYJlVKtCeWkpKm43zKHbpvsADOoTgZAgkf+J46ukpASlFQFoGxaJnj9RhbzSBpGPDTJ/BxFiSkvNVw2FPNQHTz5hee9dm0gMeLwPIuR3E9szupK3DEFEnycx6GHvKgt9FhKKdq1s4ncsUd/PhjYPdEafx/sionGvCETV+P2FrFqTb3RIXYTdiENK8tseghUREdUn3hcREZE2GJSIiEgbDEpERKQNBiUiItIGOzoQEZE2mCkREZE2GJSIiEgbDEpERKQNBiUiItIGgxIREWmDQYmIiLTBoERERNpgUCIiIm0wKBERkTYYlIiISBsMSkREpA0GJSIi0gaDEhERaYNvCSef3bp1Czdv3kRVVZWaQ0RUPxiUyCcyIJWVlaFVq1YIDAxUc4mI6ger78gnMkNiQCKihsKgRD6RVXYMSETUUBiUiIhIGwxKRESkDQYlIiLSBoMSERFpg0GJiIi0waBERETaYFAiIiJtMCgREZE2GJSIiEgbDEpERKQNBiVqVDnLhiJ2sH34CDlqfuPJwzuO7YthWZ6aT0Q6aNygVLAV0wbGofeSXDXDzYGl6D1wNjYWqGk/yF4i9u+VrShS09QAJixH7p5dYngJ/dQs090HjKK0152fH/w6Nl1WCxxi8Jqx7V1YP0HNIiJtNG5QihiNhfPigbU7ka1mORVj4+pUJMxLwfMRalazlotFIoAvOqAmm4GcZTOAj82AkbtnOV5YNwMvpV1RS71w+XO88c8EpKugk/5n4I0x/sjGiKiuGr36rsOYFzEZqVi+pVjNUQ6kYm5mMmaMCVMz/GPAq1k49sFodFDT1Hj6vbwLrzlSpxi88OfB2PXPLO+z1o6/xEfv/9Lxb9chaRJewAbsYFQiajL80KYUiykiW8qYn2rJluxZUjIGqDlERNT8+KWjQ7VsyWOWZFZf9bYM01yyKxHIXvHcPuXeLmRMy3JGm5Vc11IP1Ycm988WbZmtpt32x227jm3Y283sg0v7lHf7bIwPnIrVYnz1FLUeD5+5t+Xh07f2YOjP4uqctRalrcGnGIcRrg1XRKQxvwQlR7b05W5xEfaQJRnBYypOzkvDsX1Z5rAtBZifVPeL88lPMC1jmFrfTN8yssyFGDJwJ0Za9iVh7VS3ICnIbSwAFtrL7VuJyfKzLoHpzowqRPlZMT55lVrXq7HmwmZCti/JgDI9qb2a4yPZviSD2p/HuXWmICKd+SkoqWxJXLBXLXHPkuxBKg0rrJlTxGisWJUMrP2kbr3zMiMxo84X9ngs2GYJZGJfZkyECqoWchsu7VGxmCMDmPyezajDwt2S3cbHrxuMN7e4987zkghIL41ZhF0TluOjugY1IvILvwUle7a0eq1bllSwG9sz4zHySQ8dHvoPE9mDWP6NW4bijSGR6KpGfTYkEYluPQK79ogXQSgfZ9W0YeKw6hlYRA9EiT8nv6/DPjdDsku3GZDextiOaqZP8vCOCki5L8eoeUTUVPgxKIlsqVuk+H+3AHQxHxlqtF5F9WCPOt3lfITEt/bghY9rD0j2B3Dfqdar7go2/WEGPo2bg3QGJKImya9ByaNOkUhQo7ULQ5RMQZqIqG4y8DatfW5cIsOZvsEY+3S6/eFXz8Gn39PjjL+ffvq5S/VpUdpf8UaWGMlahETL52P/4FqOiPSlX1AyqrtqqKI7sBOr3TOrk6fdLji52L5WjTY2Tw8Fq32O6qSmJZ32WRvONy24D85nl5R+CXhB/o2KdMl+OyS97fHzuZZnl4hIb/oFJdk5YFUyMuYnufZuk12tp7i+8WFAQrLRMy7FUi57idmV2j9SMc7aO1DtMya+WId97oSoIcDqjObWFfzOzK7ewAtPs4qO6F6jYVAS+s90dgG3P+8zaiGiVmW59sgT5TKNB3Gd5bYnZGHDRLW8sU1cicwen7jsM2S3dmuvP6/3OQzPT5a9Daea5e6l55TWzVBVa76+Ash8N17iW8CbWzxkUF5xvl9v/Do1i4i00cJms92+evUqQkND1SyqC/nA6zisvOefJyopKUFwcLCaIiKqX3pmSkRE1CwFtGjRQo0SERH5V8Dt27fVKBERkX+xTYl8wjYlImpIbFMiIiJtsE2JiIi0wTYlIiLSBqvviIhIGwxKRESkDbYpERGRNtimRERE2mD1HfkkMDAQVVVVaoqIqH4xKJFPWrdujYqKCgYmImoQLW4L8il9vtGBvHXr1i3cvHmTgYmI6h1fM0RERNpg7zsiItIGe98REZE2mCkREZE2mCkREZE22CWciIi0waBERETaYJsSERFpg21KRESkDWZKRESkDWZKRESkDWZKRESkDb77jnzGF7ISUUPhW8LJJzIglZWVoVWrVsZ/W4mIqD6xTYl8IjMkBiQiaihsUyKfyCo7BiQiaijMlIiISBvMlIiISBvMlIiISBvMlIiISBvMlIiISBvMlIiISBvMlIiISBvMlIiISBvMlIiISBvMlIiISBvMlKhR5SwbitjB9uEj5Kj53ipKe93y+dex6bJaQET3BP9mSgeWovfAONfhla0oUovpHjVhOXL37BLDS+inZjldwaY/1BxwOiS9bX52yxwMVfOI6N7hp0ypGBtfEQFoSj4WbMvCsX3OYUPUQgwRwWnRAVXUR0VbZjdOYCvYimkDZ2NjgZqmu3f5c7w0+K/Az8apGUTU3PglU8pekoS5mcnYsO9dPB+hZioDXs1C5rx4rJ7CC37zIjKkv5zB9D1vY2xXNYuImp3Gz5REhrF8LTB51UwMULPcdRiTggVDdmPuhlw1h+597TH2fU/VeUTUnDR6plT0TToykIyR/dUMj8KQODweWLsT2cZ0LhYNjMO0LcXGlJOqBlwigpdRnRaHIfN3A5lmFWBvR/Wa+XlZJWhU7xnLzMF1nV5sxz4+aqH4HiJwjvK0HiIiqotGz5TOnhZBY0gk7lRD06FbpPj/fJz0tgovYjRW7DOr/jAkBZlGG5Vr9eDJ1bORIv7naMNalYyM+Uk+BpQwPP+B+Oy2FCQg3tEmtmJMmFpORER11ayeU8qIetE1ePSfaQSxjPmpKiMjIiJ/0vw5pUhEuXWEuBuTE2LVmJPPGRkRETWYRs+UuvaIBzLzcVZN16To+3yvqvmIiOje0eiZUocnE5GAVGyv9TmkYqR/uRsJw+PRwZjuhKghxkgDsWdkDb0dqo3jbQ/TN4ipPXhjjDn9jq+vfSCiJqvx25QiRmPGRGD1lKU1tuMUbVloPMc0w63zQMbpi2pMKdiN7Zlq3AurM6p3Mc/OSK2Wkd3tdqhu+r0s3/JQfXiN/cSJmg2/tCkNeDUNC4akYpyHNyJkL5HduoEF26zPMdm7iE+1vOmhGBsXyG7Zrow2osx0pHtqI3L5vNk9fJx8ZmryaJWReb8dRPRAFESw+oZdwYmI6ksLEZRul5SUIDQ0VM1qRPLdd1NEpmI1cSWOvVq9Q4IkA5YMIibZHTtFRK8kzI2yfkY+RyTfGCHHZRnZLVw+fzQVWJWGqNX2ZZJ9uZpUvNuOGdSM56KEhHlpzaJbuDxWgoOD1ZTvZBXd+HVqAuOw3uP772omX8ia+NYeNTUYb255G2M7qkkiavJa2Gy221evXvVPUGo09qCUhTm1PrRLd3K3QYmIqDbN6jklIiLSm+bPKRERUXPCTImIiLTRTNqUqL6wTYmIGhIzJSIi0gbblIiISBvMlIiISBvMlIiISBvMlIiISBvMlIiISBvMlIiISBvMlMgngYGBqKqqUlNERPWLmRL5pHXr1qioqGBgIqIGwTc6kM9u3bqFmzdvMjARUb3z739PiYiIyCJA/SUiIvI7BiUiItIGe98REZE22PuOiIi0weo7IiLSBoMSERFpg21KRESkDbYpERGRNlh9R0RE2mBQIiIibbBNiYiItMF335HP+EJWImooDErkExmQysrK0KpVK+O/rUREVJ/YpkQ+kRkSAxIRNRS2KZFPZJUdAxIRNRQ+p0RERNpg9R0REWmDQYmIiLTBNiUiItIG25SIiEgbrL4jIiJtMCgREZE2GJSIiEgbDEpERKQNBiUiItIGg5K/HFiK3gNnY2OBmm4mcpYNRexg+/ARctR8bxWlvW75/OvYdFktIKJ7gh+CUjE2vhInLsgehiW5qgzd0yYsR+6eXWJ4Cf3ULKcr2PSHmgNOh6S3zc9umYOhah4R3Tv8lylNXIlj+7Jch1dj1ULd5GKRCJqLDqhJahiXP8dLg/8K/GycmkFEzQ2r70gTIkP6yxlM3/M2xnZVs4io2WFQIk20x9j3PVXnEVFzol9QKtiKaR7al4q2zIazY4CzOs2c72yXmral2Cjvwr5O+/DKVhSpRU7mOt3Xlb1Ejk/FalFi9RS1zLpvdVr3UmSrJURE5KRfUIoYjRWrkoG1nzh7pokLf8r83Zi86l08H6HmCSdXz0aK+J+jTUp8LmN+kmtgkr3cRi1E1Cp721UaFmAhhliDhxFYROCxtnNtS0GUWDTgVTm9EpPF+GT7OuxtXz6s++S8NFVGDKuAcVNSVQEiIrLzX1BaO9WSOZiDoyNB/5nYMHE35i4wL+7ZGxYiQwSMOf3NxXYZUS9ixZgwNSWIz2XOixeBKVVlIsXYuFpc/F0+G4bn56YgIXMhVhnbE2UWmOt36WghguMc67qr8Wbdzn33tJ9EROTKf0FJBgF75qAGa9AZ8KrITuTFfclSjFubjA0eeuZNTqg+r0O3SPH/+Tgps6yC3dieGY8F49zKRfQwsqCT34uMyijjeV218mbdyMX2tbXtJxERWWnc0SEWc1YlY/XaVExeNRMD1FyfXMxHBkTGNco1I7O3ERmMMvGI6qSmveXNugtO46QaJSKiO9M4KOVi0ZRUJAyJx+opvnYMiESUbHvqFIkEEXAWbHPNyOyDUaVmlKkDb9atsibyjuNtD9M3iKk9eGOMOf2Or699IKImS9uglL1EZBxDUrDwgxQsGJKKcR7e9rA6o/q87IxUYEgkjEddjKCwG9u/8dAjz86bMp549blOiBpSy36Si34vy7c8VB9eYz9xomZDz6B0QLYjiSxk7mh0sHceWDu1+hsV3ObJ7uHjZBvOZPk5KRZTjI4PSW6fLcbGJfYecmY1YbVeewVbscgx7Sm4eLNuse+TZU/CqdV6BMr9JCIiVy1uCyUlJQgNDVWzGpq4aL+ShLmZatJKZEaZk/MxRFbbzUtz6bEmnxcyAtU22S1cPvczFViVhqjV1nXZl6tJO9l1260Ltuze7dKbT3bdHrUQGWqy2rqs67D21PNm3e5l5OcTdop5+Z73V2PyWAkODlZTvpNVdOPXqQmMw3qP77+rmXwha+Jbe9TUYLy55W2M7agmiajJ80NQqg/2oOR28acGd7dBiYioNhp3dCAiouaGQYmIiLTBoERERNpoom1K5C9sUyKihsRMiYiItMGgRERE2mBQIiIibTAoERGRNhiUiIhIGwxKRESkDQYlIiLSBoMS+SQwMBBVVVVqioiofjEokU9at26NiooKBiYiahB8owP57NatW7h58yYDExHVOwYlIiLSBqvviIhIGwxKRESkDQYlIiLSBoMSERFpg0GJiIi0waBERETaYFAiIiJtMCgREZE2GJSIiEgTwP8H59+ndjbZdicAAAAASUVORK5CYII=)"
      ],
      "metadata": {
        "id": "oR49rfaoucJ_"
      }
    },
    {
      "cell_type": "code",
      "source": [
        ""
      ],
      "metadata": {
        "id": "TSbTo4ukuKcH"
      },
      "execution_count": null,
      "outputs": []
    }
  ]
}
