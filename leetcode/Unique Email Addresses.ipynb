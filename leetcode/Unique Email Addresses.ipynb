{
 "cells": [
  {
   "cell_type": "markdown",
   "id": "325c1f72",
   "metadata": {},
   "source": [
    "## Leet Code Practice Questions"
   ]
  },
  {
   "cell_type": "markdown",
   "id": "149bc984",
   "metadata": {},
   "source": [
    "Every valid email consists of a local name and a domain name, separated by the '@' sign. Besides lowercase letters, the email may contain one or more '.' or '+'.\n",
    "\n",
    "For example, in \"alice@leetcode.com\", \"alice\" is the local name, and \"leetcode.com\" is the domain name.\n",
    "If you add periods '.' between some characters in the local name part of an email address, mail sent there will be forwarded to the same address without dots in the local name. Note that this rule does not apply to domain names.\n",
    "\n",
    "For example, \"alice.z@leetcode.com\" and \"alicez@leetcode.com\" forward to the same email address.\n",
    "If you add a plus '+' in the local name, everything after the first plus sign will be ignored. This allows certain emails to be filtered. Note that this rule does not apply to domain names.\n",
    "\n",
    "For example, \"m.y+name@email.com\" will be forwarded to \"my@email.com\".\n",
    "It is possible to use both of these rules at the same time.\n",
    "\n",
    "Given an array of strings emails where we send one email to each email[i], return the number of different addresses that actually receive mails."
   ]
  },
  {
   "cell_type": "code",
   "execution_count": 12,
   "id": "08fca63c",
   "metadata": {},
   "outputs": [],
   "source": [
    "from typing import List\n",
    "class Solution:\n",
    "    def numUniqueEmails( emails: List[str]) -> int:\n",
    "        my_set=set()\n",
    "        for e in emails:\n",
    "            local, domain = e.split('@')\n",
    "            local = local.split('+')[0]\n",
    "            local = local.replace('.','')\n",
    "            my_set.add((local,domain))\n",
    "        return len(my_set)"
   ]
  },
  {
   "cell_type": "code",
   "execution_count": 13,
   "id": "b9cb1493",
   "metadata": {},
   "outputs": [],
   "source": [
    "emails = [\"test.email+alex@leetcode.com\",\"test.e.mail+bob.cathy@leetcode.com\",\"testemail+david@lee.tcode.com\"]\n",
    "count =Solution.numUniqueEmails(emails)"
   ]
  },
  {
   "cell_type": "code",
   "execution_count": 14,
   "id": "eebceb13",
   "metadata": {},
   "outputs": [
    {
     "data": {
      "text/plain": [
       "2"
      ]
     },
     "execution_count": 14,
     "metadata": {},
     "output_type": "execute_result"
    }
   ],
   "source": [
    "count"
   ]
  },
  {
   "cell_type": "code",
   "execution_count": null,
   "id": "b086709c",
   "metadata": {},
   "outputs": [],
   "source": []
  }
 ],
 "metadata": {
  "kernelspec": {
   "display_name": "Python 3",
   "language": "python",
   "name": "python3"
  },
  "language_info": {
   "codemirror_mode": {
    "name": "ipython",
    "version": 3
   },
   "file_extension": ".py",
   "mimetype": "text/x-python",
   "name": "python",
   "nbconvert_exporter": "python",
   "pygments_lexer": "ipython3",
   "version": "3.8.8"
  }
 },
 "nbformat": 4,
 "nbformat_minor": 5
}
