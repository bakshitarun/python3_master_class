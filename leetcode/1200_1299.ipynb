{
  "nbformat": 4,
  "nbformat_minor": 0,
  "metadata": {
    "colab": {
      "name": "1200_1300.ipynb",
      "provenance": [],
      "authorship_tag": "ABX9TyNM2mbCRiH9ILBCnO3v03C1",
      "include_colab_link": true
    },
    "kernelspec": {
      "name": "python3",
      "display_name": "Python 3"
    },
    "language_info": {
      "name": "python"
    }
  },
  "cells": [
    {
      "cell_type": "markdown",
      "metadata": {
        "id": "view-in-github",
        "colab_type": "text"
      },
      "source": [
        "<a href=\"https://colab.research.google.com/github/bakshitarun/python3/blob/main/leetcode/1200_1300.ipynb\" target=\"_parent\"><img src=\"https://colab.research.google.com/assets/colab-badge.svg\" alt=\"Open In Colab\"/></a>"
      ]
    },
    {
      "cell_type": "code",
      "source": [
        ""
      ],
      "metadata": {
        "id": "336Uyh5qtu3p"
      },
      "execution_count": null,
      "outputs": []
    },
    {
      "cell_type": "code",
      "source": [
        ""
      ],
      "metadata": {
        "id": "tzieueHntvr7"
      },
      "execution_count": null,
      "outputs": []
    },
    {
      "cell_type": "markdown",
      "source": [
        "**1275. Find Winner on a Tic Tac Toe Game**\n",
        "\n",
        "```\n",
        "Tic-tac-toe is played by two players A and B on a 3 x 3 grid. The rules of Tic-Tac-Toe are:\n",
        "\n",
        "Players take turns placing characters into empty squares ' '.\n",
        "The first player A always places 'X' characters, while the second player B always places 'O' characters.\n",
        "'X' and 'O' characters are always placed into empty squares, never on filled ones.\n",
        "The game ends when there are three of the same (non-empty) character filling any row, column, or diagonal.\n",
        "The game also ends if all squares are non-empty.\n",
        "No more moves can be played if the game is over.\n",
        "Given a 2D integer array moves where moves[i] = [rowi, coli] indicates that the ith move will be played on grid[rowi][coli]. return the winner of the game if it exists (A or B). In case the game ends in a draw return \"Draw\". If there are still movements to play return \"Pending\".\n",
        "\n",
        "You can assume that moves is valid (i.e., it follows the rules of Tic-Tac-Toe), the grid is initially empty, and A will play first.\n",
        "\n",
        " \n",
        "\n",
        "Example 1:\n",
        "\n",
        "\n",
        "Input: moves = [[0,0],[2,0],[1,1],[2,1],[2,2]]\n",
        "Output: \"A\"\n",
        "Explanation: A wins, they always play first.\n",
        "Example 2:\n",
        "\n",
        "\n",
        "Input: moves = [[0,0],[1,1],[0,1],[0,2],[1,0],[2,0]]\n",
        "Output: \"B\"\n",
        "Explanation: B wins.\n",
        "Example 3:\n",
        "\n",
        "\n",
        "Input: moves = [[0,0],[1,1],[2,0],[1,0],[1,2],[2,1],[0,1],[0,2],[2,2]]\n",
        "Output: \"Draw\"\n",
        "Explanation: The game ends in a draw since there are no moves to make.\n",
        " \n",
        "\n",
        "Constraints:\n",
        "\n",
        "1 <= moves.length <= 9\n",
        "moves[i].length == 2\n",
        "0 <= rowi, coli <= 2\n",
        "There are no repeated elements on moves.\n",
        "moves follow the rules of tic tac toe.\n",
        "```"
      ],
      "metadata": {
        "id": "48Zt9EHutLnN"
      }
    },
    {
      "cell_type": "code",
      "execution_count": 4,
      "metadata": {
        "id": "WsoUPtbhQcik"
      },
      "outputs": [],
      "source": [
        "#1275\n",
        "class Solution:\n",
        "    def tictactoe(self, moves) -> str:\n",
        "        A= moves[0::2]\n",
        "        B = moves[1::2]\n",
        "        winner = {'r1' : [[0,0],[0,1],[0,2]],\n",
        "                 'r2' : [[1,0],[1,1],[1,2]],\n",
        "                 'r3' : [[2,0],[2,1],[2,2]],\n",
        "                 'c1': [[0,0],[1,0],[2,0]],\n",
        "                 'c2' : [[0,1],[1,1],[2,1]],\n",
        "                 'c3' : [[0,2],[1,2],[2,2]],\n",
        "                 'd1': [[0,0],[1,1],[2,2]],\n",
        "                 'd2' : [[0,2],[1,1],[2,0]]}\n",
        "        for key in winner:\n",
        "            if (all(elem in A  for elem in winner[key])):\n",
        "                return 'A'\n",
        "            elif (all(elem in B  for elem in winner[key])):\n",
        "                print(winner[key])\n",
        "                return 'B'\n",
        "        if len(moves) ==9:\n",
        "            return 'Draw'\n",
        "        else:\n",
        "            return 'Pending'\n",
        "                "
      ]
    },
    {
      "cell_type": "markdown",
      "source": [
        "![image.png](data:image/png;base64,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)"
      ],
      "metadata": {
        "id": "xBoRA9txtrai"
      }
    },
    {
      "cell_type": "code",
      "source": [
        ""
      ],
      "metadata": {
        "id": "Az1l9pfitPC8"
      },
      "execution_count": null,
      "outputs": []
    }
  ]
}
