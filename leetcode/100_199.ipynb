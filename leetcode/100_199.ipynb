{
  "nbformat": 4,
  "nbformat_minor": 0,
  "metadata": {
    "colab": {
      "name": "100_199_practice.ipynb",
      "provenance": [],
      "authorship_tag": "ABX9TyMIsq03nmm5VE2L0Imr2N2z",
      "include_colab_link": true
    },
    "kernelspec": {
      "name": "python3",
      "display_name": "Python 3"
    },
    "language_info": {
      "name": "python"
    }
  },
  "cells": [
    {
      "cell_type": "markdown",
      "metadata": {
        "id": "view-in-github",
        "colab_type": "text"
      },
      "source": [
        "<a href=\"https://colab.research.google.com/github/bakshitarun/python3/blob/main/leetcode/100_199_practice.ipynb\" target=\"_parent\"><img src=\"https://colab.research.google.com/assets/colab-badge.svg\" alt=\"Open In Colab\"/></a>"
      ]
    },
    {
      "cell_type": "code",
      "execution_count": null,
      "metadata": {
        "id": "SVBP7rw8EoHr"
      },
      "outputs": [],
      "source": [
        ""
      ]
    },
    {
      "cell_type": "markdown",
      "source": [
        "**104. Maximum Depth of Binary Tree**\n",
        "```\n",
        "Given the root of a binary tree, return its maximum depth.\n",
        "A binary tree's maximum depth is the number of nodes along the longest path from the root node down to the farthest leaf node.\n",
        "\n",
        "Example 1:\n",
        "Input: root = [3,9,20,null,null,15,7]\n",
        "Output: 3\n",
        "Example 2:\n",
        "\n",
        "Input: root = [1,null,2]\n",
        "Output: 2\n",
        " \n",
        "Constraints:\n",
        "The number of nodes in the tree is in the range [0, 104].\n",
        "-100 <= Node.val <= 100\n",
        "\n",
        "```"
      ],
      "metadata": {
        "id": "0WzJ0qhXEo41"
      }
    },
    {
      "cell_type": "code",
      "source": [
        ""
      ],
      "metadata": {
        "id": "35DTA-coEutL"
      },
      "execution_count": null,
      "outputs": []
    }
  ]
}
