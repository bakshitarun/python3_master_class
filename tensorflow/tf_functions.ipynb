{
 "cells": [
  {
   "cell_type": "code",
   "execution_count": 1,
   "id": "0ab0f11f",
   "metadata": {},
   "outputs": [],
   "source": [
    "import time\n",
    "import warnings\n",
    "import logging\n",
    "import tensorflow as tf"
   ]
  },
  {
   "cell_type": "code",
   "execution_count": 2,
   "id": "c99fa230",
   "metadata": {},
   "outputs": [],
   "source": [
    "#Decorate functions with tf.function\n",
    "#Functions can be faster than eager code, especially for\n",
    "#graphs with many small ops. But for graphs with a few expensive \n",
    "#ops (like convolutions), you may not see much speedup.\n",
    "\n",
    "@tf.function\n",
    "def add(a, b):\n",
    "    return a + b\n",
    "\n",
    "@tf.function\n",
    "def sub(a, b):\n",
    "    return a - b\n",
    "\n",
    "@tf.function\n",
    "def mul(a, b):\n",
    "    return a * b\n",
    "\n",
    "@tf.function\n",
    "def div(a, b):\n",
    "    return a / b"
   ]
  },
  {
   "cell_type": "code",
   "execution_count": 3,
   "id": "0851dc4b",
   "metadata": {},
   "outputs": [
    {
     "name": "stdout",
     "output_type": "stream",
     "text": [
      "tf.Tensor(7, shape=(), dtype=int32)\n",
      "tf.Tensor(3, shape=(), dtype=int32)\n",
      "tf.Tensor(10, shape=(), dtype=int32)\n",
      "tf.Tensor(2.5, shape=(), dtype=float64)\n"
     ]
    }
   ],
   "source": [
    "print(add(tf.constant(5), tf.constant(2)))\n",
    "print(sub(tf.constant(5), tf.constant(2)))\n",
    "print(mul(tf.constant(5), tf.constant(2)))\n",
    "print(div(tf.constant(5), tf.constant(2)))"
   ]
  },
  {
   "cell_type": "code",
   "execution_count": 4,
   "id": "92fd6b1f",
   "metadata": {},
   "outputs": [
    {
     "data": {
      "text/plain": [
       "<tf.Tensor: shape=(2,), dtype=float32, numpy=array([4., 6.], dtype=float32)>"
      ]
     },
     "execution_count": 4,
     "metadata": {},
     "output_type": "execute_result"
    }
   ],
   "source": [
    "var_c"
   ]
  },
  {
   "cell_type": "code",
   "execution_count": 5,
   "id": "20dbcbb5",
   "metadata": {},
   "outputs": [],
   "source": [
    "%load_ext tensorboard"
   ]
  },
  {
   "cell_type": "code",
   "execution_count": 6,
   "id": "8d2f2844",
   "metadata": {},
   "outputs": [
    {
     "name": "stdout",
     "output_type": "stream",
     "text": [
      "Known TensorBoard instances:\n",
      "  - port 6006: logdir logs (started 0:05:12 ago; pid 6184)\n"
     ]
    }
   ],
   "source": [
    "from tensorboard import notebook\n",
    "notebook.list() "
   ]
  },
  {
   "cell_type": "code",
   "execution_count": null,
   "id": "fd7b614d",
   "metadata": {},
   "outputs": [],
   "source": []
  }
 ],
 "metadata": {
  "kernelspec": {
   "display_name": "Python 3",
   "language": "python",
   "name": "python3"
  },
  "language_info": {
   "codemirror_mode": {
    "name": "ipython",
    "version": 3
   },
   "file_extension": ".py",
   "mimetype": "text/x-python",
   "name": "python",
   "nbconvert_exporter": "python",
   "pygments_lexer": "ipython3",
   "version": "3.8.8"
  }
 },
 "nbformat": 4,
 "nbformat_minor": 5
}
