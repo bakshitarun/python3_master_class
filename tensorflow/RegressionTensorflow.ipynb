{
  "nbformat": 4,
  "nbformat_minor": 5,
  "metadata": {
    "kernelspec": {
      "display_name": "Python 3",
      "language": "python",
      "name": "python3"
    },
    "language_info": {
      "codemirror_mode": {
        "name": "ipython",
        "version": 3
      },
      "file_extension": ".py",
      "mimetype": "text/x-python",
      "name": "python",
      "nbconvert_exporter": "python",
      "pygments_lexer": "ipython3",
      "version": "3.8.8"
    },
    "colab": {
      "name": "RegressionTensorflow.ipynb",
      "provenance": [],
      "collapsed_sections": [],
      "include_colab_link": true
    }
  },
  "cells": [
    {
      "cell_type": "markdown",
      "metadata": {
        "id": "view-in-github",
        "colab_type": "text"
      },
      "source": [
        "<a href=\"https://colab.research.google.com/github/bakshitarun/python3/blob/main/tensorflow/RegressionTensorflow.ipynb\" target=\"_parent\"><img src=\"https://colab.research.google.com/assets/colab-badge.svg\" alt=\"Open In Colab\"/></a>"
      ]
    },
    {
      "cell_type": "code",
      "metadata": {
        "id": "a979f5d0",
        "colab": {
          "base_uri": "https://localhost:8080/"
        },
        "outputId": "8c9c59b7-0e4f-45e7-a844-43495f44bf28"
      },
      "source": [
        "import tensorflow as tf\n",
        "print(tf.__version__)"
      ],
      "id": "a979f5d0",
      "execution_count": 52,
      "outputs": [
        {
          "output_type": "stream",
          "name": "stdout",
          "text": [
            "2.7.0\n"
          ]
        }
      ]
    },
    {
      "cell_type": "code",
      "metadata": {
        "id": "c8394799",
        "colab": {
          "base_uri": "https://localhost:8080/",
          "height": 269
        },
        "outputId": "fed6cc25-b4e8-4a66-b1a6-46a3bb096b0b"
      },
      "source": [
        "import numpy as np\n",
        "import matplotlib.pyplot as plt\n",
        "\n",
        "# Create features\n",
        "X = np.array([-7.0, -4.0, -1.0, 2.0, 5.0, 8.0, 11.0, 14.0])\n",
        "\n",
        "# Create labels\n",
        "y = np.array([3.0, 6.0, 9.0, 12.0, 15.0, 18.0, 21.0, 24.0])\n",
        "\n",
        "# Visualize it\n",
        "plt.scatter(X, y);"
      ],
      "id": "c8394799",
      "execution_count": 53,
      "outputs": [
        {
          "output_type": "display_data",
          "data": {
            "image/png": "[encoded data removed]",
            "text/plain": [
              "<Figure size 432x288 with 1 Axes>"
            ]
          },
          "metadata": {
            "needs_background": "light"
          }
        }
      ]
    },
    {
      "cell_type": "code",
      "metadata": {
        "colab": {
          "base_uri": "https://localhost:8080/"
        },
        "id": "5An3JLjsk6kO",
        "outputId": "6e463c86-205e-4b19-f2cf-912c8f36f031"
      },
      "source": [
        "X[0].ndim"
      ],
      "id": "5An3JLjsk6kO",
      "execution_count": 54,
      "outputs": [
        {
          "output_type": "execute_result",
          "data": {
            "text/plain": [
              "0"
            ]
          },
          "metadata": {},
          "execution_count": 54
        }
      ]
    },
    {
      "cell_type": "code",
      "metadata": {
        "id": "205605b6"
      },
      "source": [
        "X = tf.constant(X)\n",
        "y = tf.constant(y)"
      ],
      "id": "205605b6",
      "execution_count": 55,
      "outputs": []
    },
    {
      "cell_type": "code",
      "metadata": {
        "id": "16339101",
        "colab": {
          "base_uri": "https://localhost:8080/"
        },
        "outputId": "9eba4143-f241-474a-b200-ddcefe9bf4b6"
      },
      "source": [
        "X,y"
      ],
      "id": "16339101",
      "execution_count": 56,
      "outputs": [
        {
          "output_type": "execute_result",
          "data": {
            "text/plain": [
              "(<tf.Tensor: shape=(8,), dtype=float64, numpy=array([-7., -4., -1.,  2.,  5.,  8., 11., 14.])>,\n",
              " <tf.Tensor: shape=(8,), dtype=float64, numpy=array([ 3.,  6.,  9., 12., 15., 18., 21., 24.])>)"
            ]
          },
          "metadata": {},
          "execution_count": 56
        }
      ]
    },
    {
      "cell_type": "code",
      "metadata": {
        "id": "ead24955",
        "colab": {
          "base_uri": "https://localhost:8080/"
        },
        "outputId": "067bb5f9-8f51-4d86-c85b-41b134b270f0"
      },
      "source": [
        "#Modeling in Tensorflow\n",
        "\n",
        "tf.random.set_seed(42)\n",
        "\n",
        "#1. Create a model using sequential API\n",
        "model = tf.keras.Sequential([\n",
        "    tf.keras.layers.Dense(100) ])\n",
        "\n",
        "#compile the model\n",
        "model.compile(loss =tf.keras.losses.mae,\n",
        "             optimizer = tf.keras.optimizers.SGD(),# stochastic gradient descent\n",
        "             metrics = ['mae'])\n",
        "\n",
        "#fit the model\n",
        "#for tensorflow 2.7+ if you are passing a vector to the model then you need to expand its dimensions\n",
        "model.fit(tf.expand_dims(X,axis=-1),y, epochs = 5)\n"
      ],
      "id": "ead24955",
      "execution_count": 57,
      "outputs": [
        {
          "output_type": "stream",
          "name": "stdout",
          "text": [
            "Epoch 1/5\n",
            "1/1 [==============================] - 0s 320ms/step - loss: 13.4988 - mae: 13.4988\n",
            "Epoch 2/5\n",
            "1/1 [==============================] - 0s 4ms/step - loss: 13.4974 - mae: 13.4974\n",
            "Epoch 3/5\n",
            "1/1 [==============================] - 0s 6ms/step - loss: 13.4961 - mae: 13.4961\n",
            "Epoch 4/5\n",
            "1/1 [==============================] - 0s 5ms/step - loss: 13.4948 - mae: 13.4948\n",
            "Epoch 5/5\n",
            "1/1 [==============================] - 0s 4ms/step - loss: 13.4935 - mae: 13.4935\n"
          ]
        },
        {
          "output_type": "execute_result",
          "data": {
            "text/plain": [
              "<keras.callbacks.History at 0x7fb619eca310>"
            ]
          },
          "metadata": {},
          "execution_count": 57
        }
      ]
    },
    {
      "cell_type": "code",
      "metadata": {
        "id": "863c00e7",
        "colab": {
          "base_uri": "https://localhost:8080/"
        },
        "outputId": "cd8a3dfc-77fe-4c3b-f3dd-207a8d063e3a"
      },
      "source": [
        "model.predict([14])\n",
        "#we may need to adjust the model parameters inorder to get better predictions"
      ],
      "id": "863c00e7",
      "execution_count": 58,
      "outputs": [
        {
          "output_type": "execute_result",
          "data": {
            "text/plain": [
              "array([[ 1.1480596 , -0.3776012 , -0.9790084 , -0.21738996, -3.1575506 ,\n",
              "         1.2853024 ,  1.6636894 ,  2.5667598 , -1.8426952 , -1.8640525 ,\n",
              "        -1.2690129 ,  1.5423381 , -2.4783266 ,  0.3530136 ,  0.53417003,\n",
              "         2.7526534 , -3.322682  ,  0.16988944,  0.9432035 , -2.0269442 ,\n",
              "         1.5907011 ,  0.33779922, -2.6531825 ,  1.2309365 ,  1.1188108 ,\n",
              "        -1.0877376 ,  0.71712816, -1.9498442 ,  2.4322667 , -0.38022894,\n",
              "         3.0859916 , -1.7662632 ,  2.1528413 ,  0.20475422, -0.01384518,\n",
              "        -1.912291  ,  2.3843753 ,  2.5629356 , -1.2826748 ,  1.2998488 ,\n",
              "        -1.7654822 ,  1.9476265 ,  3.2130017 , -2.9184105 ,  2.0637572 ,\n",
              "         1.118885  ,  0.61976695, -2.263833  ,  1.6499374 , -1.199728  ,\n",
              "         0.75788593, -0.21225654,  3.2873688 ,  1.5421925 , -1.1797318 ,\n",
              "         2.2482512 ,  0.00924572, -2.057597  ,  1.7916996 , -1.0802716 ,\n",
              "        -1.4676578 , -1.2366126 ,  0.7532409 ,  1.7301766 ,  0.03595695,\n",
              "        -2.1395946 , -2.487806  ,  1.023847  ,  3.1366289 ,  1.1651987 ,\n",
              "        -1.2883455 , -0.8695472 , -0.33425054, -2.1343195 ,  0.22172056,\n",
              "         1.4259089 ,  2.7454844 , -1.245299  ,  0.86702853,  3.2199411 ,\n",
              "        -2.6223783 , -1.367851  ,  2.9981797 , -2.4719174 , -1.2076521 ,\n",
              "        -1.5973487 , -3.1723788 ,  2.75792   ,  0.9868356 ,  0.58587766,\n",
              "        -1.959773  ,  1.5083861 , -0.906392  , -3.0684986 , -2.3651028 ,\n",
              "         2.3700292 ,  2.997485  , -2.7377548 , -2.799137  ,  0.8765915 ]],\n",
              "      dtype=float32)"
            ]
          },
          "metadata": {},
          "execution_count": 58
        }
      ]
    },
    {
      "cell_type": "code",
      "metadata": {
        "id": "92f73846"
      },
      "source": [
        "#Improving our model\n",
        "model2 = tf.keras.Sequential([\n",
        "    tf.keras.layers.Dense(100,activation='relu')\n",
        "    , tf.keras.layers.Dense(1)\n",
        "])\n",
        "\n",
        "#compile the model\n",
        "\n",
        "model2.compile(loss = tf.keras.losses.mae, \n",
        "               optimizer =tf.keras.optimizers.Adam(lr=0.01),metrics = ['mae'])\n",
        "\n",
        "import time\n",
        "\n",
        "myTime =time.time()\n",
        "model2.fit(tf.expand_dims(X,axis=-1),y, epochs = 1000)\n",
        "\n",
        "print('total:' +str(time.time()-myTime))"
      ],
      "id": "92f73846",
      "execution_count": null,
      "outputs": []
    },
    {
      "cell_type": "code",
      "metadata": {
        "colab": {
          "base_uri": "https://localhost:8080/"
        },
        "id": "_dLgqDNHvRHy",
        "outputId": "e4381378-1238-41c2-91d3-25271a60626d"
      },
      "source": [
        "model2.predict([14])"
      ],
      "id": "_dLgqDNHvRHy",
      "execution_count": 60,
      "outputs": [
        {
          "output_type": "execute_result",
          "data": {
            "text/plain": [
              "array([[24.114292]], dtype=float32)"
            ]
          },
          "metadata": {},
          "execution_count": 60
        }
      ]
    },
    {
      "cell_type": "markdown",
      "metadata": {
        "id": "dHcN97Bd2cX-"
      },
      "source": [
        "##Evaluating our Model"
      ],
      "id": "dHcN97Bd2cX-"
    },
    {
      "cell_type": "code",
      "metadata": {
        "colab": {
          "base_uri": "https://localhost:8080/"
        },
        "id": "GEFJJ-aY2bJf",
        "outputId": "3f82d6c6-31c5-4298-aa3b-a8d87e6f1a27"
      },
      "source": [
        " #Creating a bigger dataset\n",
        " X =tf.range(-100,100,4)\n",
        " X"
      ],
      "id": "GEFJJ-aY2bJf",
      "execution_count": 61,
      "outputs": [
        {
          "output_type": "execute_result",
          "data": {
            "text/plain": [
              "<tf.Tensor: shape=(50,), dtype=int32, numpy=\n",
              "array([-100,  -96,  -92,  -88,  -84,  -80,  -76,  -72,  -68,  -64,  -60,\n",
              "        -56,  -52,  -48,  -44,  -40,  -36,  -32,  -28,  -24,  -20,  -16,\n",
              "        -12,   -8,   -4,    0,    4,    8,   12,   16,   20,   24,   28,\n",
              "         32,   36,   40,   44,   48,   52,   56,   60,   64,   68,   72,\n",
              "         76,   80,   84,   88,   92,   96], dtype=int32)>"
            ]
          },
          "metadata": {},
          "execution_count": 61
        }
      ]
    },
    {
      "cell_type": "code",
      "metadata": {
        "id": "N2K9Fc9wCha2"
      },
      "source": [
        "y= X + 10\n",
        "y "
      ],
      "id": "N2K9Fc9wCha2",
      "execution_count": null,
      "outputs": []
    },
    {
      "cell_type": "code",
      "metadata": {
        "colab": {
          "base_uri": "https://localhost:8080/",
          "height": 282
        },
        "id": "fvwLnmpGCnoi",
        "outputId": "74c23713-e21d-45ae-9083-b8addad3bfca"
      },
      "source": [
        "import matplotlib.pyplot as plt\n",
        "plt.scatter(X, y)"
      ],
      "id": "fvwLnmpGCnoi",
      "execution_count": 63,
      "outputs": [
        {
          "output_type": "execute_result",
          "data": {
            "text/plain": [
              "<matplotlib.collections.PathCollection at 0x7fb619ef4890>"
            ]
          },
          "metadata": {},
          "execution_count": 63
        },
        {
          "output_type": "display_data",
          "data": {
            "image/png": "[encoded data removed]",
            "text/plain": [
              "<Figure size 432x288 with 1 Axes>"
            ]
          },
          "metadata": {
            "needs_background": "light"
          }
        }
      ]
    },
    {
      "cell_type": "markdown",
      "metadata": {
        "id": "w67ph95yDXZg"
      },
      "source": [
        "## Converting data into 3 sets\n",
        "\n",
        "* **Training set** - the model learns from this data, which is typically 70-80% of the total data you have available\n",
        "* **Validation set** - the model gets tuned on this data, which is typically 10-15% of the data\n",
        "* **Test set** - The model gets evaluated on this data to test what it has learned - generally 10-15% of data\n"
      ],
      "id": "w67ph95yDXZg"
    },
    {
      "cell_type": "code",
      "metadata": {
        "colab": {
          "base_uri": "https://localhost:8080/"
        },
        "id": "-LtCUA4JD4-p",
        "outputId": "ed463900-6403-473f-d725-985f72a2b82c"
      },
      "source": [
        "#For now lets split data into test and train\n",
        "\n",
        "#Train Data\n",
        "X_train = X[:40]\n",
        "y_train = y[:40]\n",
        "\n",
        "#test data\n",
        "X_test = X[40:]\n",
        "y_test =y[40:]\n",
        "\n",
        "\n",
        "len(X_train), len(y_train), len(X_test), len(y_test)"
      ],
      "id": "-LtCUA4JD4-p",
      "execution_count": 64,
      "outputs": [
        {
          "output_type": "execute_result",
          "data": {
            "text/plain": [
              "(40, 40, 10, 10)"
            ]
          },
          "metadata": {},
          "execution_count": 64
        }
      ]
    },
    {
      "cell_type": "markdown",
      "metadata": {
        "id": "do9vIdHCFJfT"
      },
      "source": [
        "##Visualizing the data"
      ],
      "id": "do9vIdHCFJfT"
    },
    {
      "cell_type": "code",
      "metadata": {
        "colab": {
          "base_uri": "https://localhost:8080/",
          "height": 445
        },
        "id": "i3odxvpIE0t1",
        "outputId": "bdc03af9-581f-41d5-b3d0-121b5d1c9563"
      },
      "source": [
        "plt.figure(figsize=(10,7))\n",
        "#plot train data\n",
        "plt.scatter(X_train,y_train,c='b',label = 'Training Data')\n",
        "#plot test data\n",
        "plt.scatter(X_test,y_test,c='g',label = 'Testing Data')\n",
        "plt.legend()"
      ],
      "id": "i3odxvpIE0t1",
      "execution_count": 65,
      "outputs": [
        {
          "output_type": "execute_result",
          "data": {
            "text/plain": [
              "<matplotlib.legend.Legend at 0x7fb621c688d0>"
            ]
          },
          "metadata": {},
          "execution_count": 65
        },
        {
          "output_type": "display_data",
          "data": {
            "image/png": "[encoded data removed]",
            "text/plain": [
              "<Figure size 720x504 with 1 Axes>"
            ]
          },
          "metadata": {
            "needs_background": "light"
          }
        }
      ]
    },
    {
      "cell_type": "code",
      "metadata": {
        "colab": {
          "base_uri": "https://localhost:8080/"
        },
        "id": "8meAv82XFiq1",
        "outputId": "4629eb93-f8b0-4504-9e4f-b1c106542bc1"
      },
      "source": [
        "#Running model on train data\n",
        "\n",
        "#define input shape or else you can run model fit\n",
        "tf.random.set_seed(42)\n",
        "model3 = tf.keras.Sequential([tf.keras.layers.Dense(1,input_shape=[1]\n",
        "                                                    )])\n",
        "model3.compile(loss=tf.keras.losses.mae, \n",
        "               optimizer = tf.keras.optimizers.SGD(),\n",
        "               metrics = ['mae'])\n",
        "\n",
        "\n",
        "\n",
        "model3.build()\n",
        "model3.summary()\n",
        "\n",
        "\n"
      ],
      "id": "8meAv82XFiq1",
      "execution_count": 72,
      "outputs": [
        {
          "output_type": "stream",
          "name": "stdout",
          "text": [
            "Model: \"sequential_26\"\n",
            "_________________________________________________________________\n",
            " Layer (type)                Output Shape              Param #   \n",
            "=================================================================\n",
            " dense_43 (Dense)            (None, 1)                 2         \n",
            "                                                                 \n",
            "=================================================================\n",
            "Total params: 2\n",
            "Trainable params: 2\n",
            "Non-trainable params: 0\n",
            "_________________________________________________________________\n"
          ]
        }
      ]
    },
    {
      "cell_type": "markdown",
      "metadata": {
        "id": "Lu_Gs5TyiHx5"
      },
      "source": [
        "* total params: total number of parameters in the model\n",
        "* trainable params: these are the parameters/patterns the model can update as it trains\n",
        "* Non Trainable params: these parameters arent updated during training(this is typical when you bring in already learb patterns/parameters from other models during transfer learning"
      ],
      "id": "Lu_Gs5TyiHx5"
    },
    {
      "cell_type": "code",
      "metadata": {
        "id": "OX8oEpvDhDTA"
      },
      "source": [
        "model3.fit(X_train,y_train,epochs=100,verbose=1)"
      ],
      "id": "OX8oEpvDhDTA",
      "execution_count": null,
      "outputs": []
    },
    {
      "cell_type": "code",
      "metadata": {
        "colab": {
          "base_uri": "https://localhost:8080/",
          "height": 201
        },
        "id": "xW30phUejFwL",
        "outputId": "557a5b9d-52ee-4f4c-aebc-6a3c7c88cc49"
      },
      "source": [
        "from tensorflow.keras.utils import plot_model\n",
        "plot_model(model=model3,show_shapes = True)"
      ],
      "id": "xW30phUejFwL",
      "execution_count": 76,
      "outputs": [
        {
          "output_type": "execute_result",
          "data": {
            "image/png": "[encoded data removed]",
            "text/plain": [
              "<IPython.core.display.Image object>"
            ]
          },
          "metadata": {},
          "execution_count": 76
        }
      ]
    },
    {
      "cell_type": "code",
      "metadata": {
        "id": "o9Ivry0ToOo-"
      },
      "source": [
        "model4.fit(tf.expand_dims(X,axis=-1),y, epochs = 5)"
      ],
      "id": "o9Ivry0ToOo-",
      "execution_count": null,
      "outputs": []
    },
    {
      "cell_type": "code",
      "metadata": {
        "colab": {
          "base_uri": "https://localhost:8080/"
        },
        "id": "4qZoSG1Xjkjf",
        "outputId": "ff69381f-15e6-4d7b-9651-a223d64bc591"
      },
      "source": [
        " #Running model on train data\n",
        "\n",
        "#define input shape or else you can run model fit\n",
        "tf.random.set_seed(42)\n",
        "model4 = tf.keras.Sequential([\n",
        "                              tf.keras.layers.Dense(10,input_shape=[1] ,name ='input_layer'), #define layer names\n",
        "                              tf.keras.layers.Dense(1,name = 'output_layer')\n",
        "                              ],name ='model_desc')\n",
        "model4.compile(loss=tf.keras.losses.mae, \n",
        "               optimizer = tf.keras.optimizers.Adam(),\n",
        "               metrics = ['mae'])\n",
        "\n",
        "\n",
        "\n",
        "#model4.build()\n",
        "model4.summary()\n",
        "\n",
        "model4.fit(X_train,y_train,epochs=100,verbose=1)\n"
      ],
      "id": "4qZoSG1Xjkjf",
      "execution_count": 116,
      "outputs": [
        {
          "output_type": "stream",
          "name": "stdout",
          "text": [
            "Model: \"model_desc\"\n",
            "_________________________________________________________________\n",
            " Layer (type)                Output Shape              Param #   \n",
            "=================================================================\n",
            " input_layer (Dense)         (None, 10)                20        \n",
            "                                                                 \n",
            " output_layer (Dense)        (None, 1)                 11        \n",
            "                                                                 \n",
            "=================================================================\n",
            "Total params: 31\n",
            "Trainable params: 31\n",
            "Non-trainable params: 0\n",
            "_________________________________________________________________\n",
            "Epoch 1/100\n",
            "2/2 [==============================] - 0s 5ms/step - loss: 25.2218 - mae: 25.2218\n",
            "Epoch 2/100\n",
            "2/2 [==============================] - 0s 4ms/step - loss: 24.6513 - mae: 24.6513\n",
            "Epoch 3/100\n",
            "2/2 [==============================] - 0s 6ms/step - loss: 24.0944 - mae: 24.0944\n",
            "Epoch 4/100\n",
            "2/2 [==============================] - 0s 5ms/step - loss: 23.5272 - mae: 23.5272\n",
            "Epoch 5/100\n",
            "2/2 [==============================] - 0s 5ms/step - loss: 22.9717 - mae: 22.9717\n",
            "Epoch 6/100\n",
            "2/2 [==============================] - 0s 5ms/step - loss: 22.4128 - mae: 22.4128\n",
            "Epoch 7/100\n",
            "2/2 [==============================] - 0s 4ms/step - loss: 21.8393 - mae: 21.8393\n",
            "Epoch 8/100\n",
            "2/2 [==============================] - 0s 3ms/step - loss: 21.2489 - mae: 21.2489\n",
            "Epoch 9/100\n",
            "2/2 [==============================] - 0s 7ms/step - loss: 20.6952 - mae: 20.6952\n",
            "Epoch 10/100\n",
            "2/2 [==============================] - 0s 3ms/step - loss: 20.1396 - mae: 20.1396\n",
            "Epoch 11/100\n",
            "2/2 [==============================] - 0s 5ms/step - loss: 19.5480 - mae: 19.5480\n",
            "Epoch 12/100\n",
            "2/2 [==============================] - 0s 6ms/step - loss: 18.9956 - mae: 18.9956\n",
            "Epoch 13/100\n",
            "2/2 [==============================] - 0s 5ms/step - loss: 18.4113 - mae: 18.4113\n",
            "Epoch 14/100\n",
            "2/2 [==============================] - 0s 4ms/step - loss: 17.8608 - mae: 17.8608\n",
            "Epoch 15/100\n",
            "2/2 [==============================] - 0s 4ms/step - loss: 17.2988 - mae: 17.2988\n",
            "Epoch 16/100\n",
            "2/2 [==============================] - 0s 4ms/step - loss: 16.7161 - mae: 16.7161\n",
            "Epoch 17/100\n",
            "2/2 [==============================] - 0s 6ms/step - loss: 16.1581 - mae: 16.1581\n",
            "Epoch 18/100\n",
            "2/2 [==============================] - 0s 5ms/step - loss: 15.6116 - mae: 15.6116\n",
            "Epoch 19/100\n",
            "2/2 [==============================] - 0s 10ms/step - loss: 15.0772 - mae: 15.0772\n",
            "Epoch 20/100\n",
            "2/2 [==============================] - 0s 5ms/step - loss: 14.5065 - mae: 14.5065\n",
            "Epoch 21/100\n",
            "2/2 [==============================] - 0s 12ms/step - loss: 13.9762 - mae: 13.9762\n",
            "Epoch 22/100\n",
            "2/2 [==============================] - 0s 5ms/step - loss: 13.4815 - mae: 13.4815\n",
            "Epoch 23/100\n",
            "2/2 [==============================] - 0s 9ms/step - loss: 12.9513 - mae: 12.9513\n",
            "Epoch 24/100\n",
            "2/2 [==============================] - 0s 7ms/step - loss: 12.4353 - mae: 12.4353\n",
            "Epoch 25/100\n",
            "2/2 [==============================] - 0s 4ms/step - loss: 11.9474 - mae: 11.9474\n",
            "Epoch 26/100\n",
            "2/2 [==============================] - 0s 6ms/step - loss: 11.4582 - mae: 11.4582\n",
            "Epoch 27/100\n",
            "2/2 [==============================] - 0s 3ms/step - loss: 10.9798 - mae: 10.9798\n",
            "Epoch 28/100\n",
            "2/2 [==============================] - 0s 6ms/step - loss: 10.5395 - mae: 10.5395\n",
            "Epoch 29/100\n",
            "2/2 [==============================] - 0s 4ms/step - loss: 10.0419 - mae: 10.0419\n",
            "Epoch 30/100\n",
            "2/2 [==============================] - 0s 7ms/step - loss: 9.5945 - mae: 9.5945\n",
            "Epoch 31/100\n",
            "2/2 [==============================] - 0s 10ms/step - loss: 9.2532 - mae: 9.2532\n",
            "Epoch 32/100\n",
            "2/2 [==============================] - 0s 11ms/step - loss: 8.8525 - mae: 8.8525\n",
            "Epoch 33/100\n",
            "2/2 [==============================] - 0s 3ms/step - loss: 8.5017 - mae: 8.5017\n",
            "Epoch 34/100\n",
            "2/2 [==============================] - 0s 4ms/step - loss: 8.2436 - mae: 8.2436\n",
            "Epoch 35/100\n",
            "2/2 [==============================] - 0s 7ms/step - loss: 8.0158 - mae: 8.0158\n",
            "Epoch 36/100\n",
            "2/2 [==============================] - 0s 6ms/step - loss: 7.8178 - mae: 7.8178\n",
            "Epoch 37/100\n",
            "2/2 [==============================] - 0s 5ms/step - loss: 7.7179 - mae: 7.7179\n",
            "Epoch 38/100\n",
            "2/2 [==============================] - 0s 9ms/step - loss: 7.6218 - mae: 7.6218\n",
            "Epoch 39/100\n",
            "2/2 [==============================] - 0s 5ms/step - loss: 7.6000 - mae: 7.6000\n",
            "Epoch 40/100\n",
            "2/2 [==============================] - 0s 4ms/step - loss: 7.5861 - mae: 7.5861\n",
            "Epoch 41/100\n",
            "2/2 [==============================] - 0s 4ms/step - loss: 7.5887 - mae: 7.5887\n",
            "Epoch 42/100\n",
            "2/2 [==============================] - 0s 5ms/step - loss: 7.6054 - mae: 7.6054\n",
            "Epoch 43/100\n",
            "2/2 [==============================] - 0s 4ms/step - loss: 7.6066 - mae: 7.6066\n",
            "Epoch 44/100\n",
            "2/2 [==============================] - 0s 4ms/step - loss: 7.5928 - mae: 7.5928\n",
            "Epoch 45/100\n",
            "2/2 [==============================] - 0s 7ms/step - loss: 7.5659 - mae: 7.5659\n",
            "Epoch 46/100\n",
            "2/2 [==============================] - 0s 7ms/step - loss: 7.5358 - mae: 7.5358\n",
            "Epoch 47/100\n",
            "2/2 [==============================] - 0s 8ms/step - loss: 7.5055 - mae: 7.5055\n",
            "Epoch 48/100\n",
            "2/2 [==============================] - 0s 4ms/step - loss: 7.4868 - mae: 7.4868\n",
            "Epoch 49/100\n",
            "2/2 [==============================] - 0s 4ms/step - loss: 7.4682 - mae: 7.4682\n",
            "Epoch 50/100\n",
            "2/2 [==============================] - 0s 9ms/step - loss: 7.4653 - mae: 7.4653\n",
            "Epoch 51/100\n",
            "2/2 [==============================] - 0s 6ms/step - loss: 7.4759 - mae: 7.4759\n",
            "Epoch 52/100\n",
            "2/2 [==============================] - 0s 4ms/step - loss: 7.4641 - mae: 7.4641\n",
            "Epoch 53/100\n",
            "2/2 [==============================] - 0s 7ms/step - loss: 7.4570 - mae: 7.4570\n",
            "Epoch 54/100\n",
            "2/2 [==============================] - 0s 7ms/step - loss: 7.4518 - mae: 7.4518\n",
            "Epoch 55/100\n",
            "2/2 [==============================] - 0s 4ms/step - loss: 7.4463 - mae: 7.4463\n",
            "Epoch 56/100\n",
            "2/2 [==============================] - 0s 6ms/step - loss: 7.4341 - mae: 7.4341\n",
            "Epoch 57/100\n",
            "2/2 [==============================] - 0s 10ms/step - loss: 7.4164 - mae: 7.4164\n",
            "Epoch 58/100\n",
            "2/2 [==============================] - 0s 8ms/step - loss: 7.3965 - mae: 7.3965\n",
            "Epoch 59/100\n",
            "2/2 [==============================] - 0s 9ms/step - loss: 7.3800 - mae: 7.3800\n",
            "Epoch 60/100\n",
            "2/2 [==============================] - 0s 9ms/step - loss: 7.3653 - mae: 7.3653\n",
            "Epoch 61/100\n",
            "2/2 [==============================] - 0s 4ms/step - loss: 7.3568 - mae: 7.3568\n",
            "Epoch 62/100\n",
            "2/2 [==============================] - 0s 4ms/step - loss: 7.3424 - mae: 7.3424\n",
            "Epoch 63/100\n",
            "2/2 [==============================] - 0s 4ms/step - loss: 7.3369 - mae: 7.3369\n",
            "Epoch 64/100\n",
            "2/2 [==============================] - 0s 4ms/step - loss: 7.3270 - mae: 7.3270\n",
            "Epoch 65/100\n",
            "2/2 [==============================] - 0s 5ms/step - loss: 7.3148 - mae: 7.3148\n",
            "Epoch 66/100\n",
            "2/2 [==============================] - 0s 4ms/step - loss: 7.3049 - mae: 7.3049\n",
            "Epoch 67/100\n",
            "2/2 [==============================] - 0s 4ms/step - loss: 7.2952 - mae: 7.2952\n",
            "Epoch 68/100\n",
            "2/2 [==============================] - 0s 4ms/step - loss: 7.2877 - mae: 7.2877\n",
            "Epoch 69/100\n",
            "2/2 [==============================] - 0s 4ms/step - loss: 7.2787 - mae: 7.2787\n",
            "Epoch 70/100\n",
            "2/2 [==============================] - 0s 4ms/step - loss: 7.2706 - mae: 7.2706\n",
            "Epoch 71/100\n",
            "2/2 [==============================] - 0s 4ms/step - loss: 7.2579 - mae: 7.2579\n",
            "Epoch 72/100\n",
            "2/2 [==============================] - 0s 4ms/step - loss: 7.2514 - mae: 7.2514\n",
            "Epoch 73/100\n",
            "2/2 [==============================] - 0s 4ms/step - loss: 7.2445 - mae: 7.2445\n",
            "Epoch 74/100\n",
            "2/2 [==============================] - 0s 6ms/step - loss: 7.2404 - mae: 7.2404\n",
            "Epoch 75/100\n",
            "2/2 [==============================] - 0s 4ms/step - loss: 7.2342 - mae: 7.2342\n",
            "Epoch 76/100\n",
            "2/2 [==============================] - 0s 5ms/step - loss: 7.2244 - mae: 7.2244\n",
            "Epoch 77/100\n",
            "2/2 [==============================] - 0s 8ms/step - loss: 7.2119 - mae: 7.2119\n",
            "Epoch 78/100\n",
            "2/2 [==============================] - 0s 10ms/step - loss: 7.1960 - mae: 7.1960\n",
            "Epoch 79/100\n",
            "2/2 [==============================] - 0s 7ms/step - loss: 7.1910 - mae: 7.1910\n",
            "Epoch 80/100\n",
            "2/2 [==============================] - 0s 10ms/step - loss: 7.1746 - mae: 7.1746\n",
            "Epoch 81/100\n",
            "2/2 [==============================] - 0s 16ms/step - loss: 7.1676 - mae: 7.1676\n",
            "Epoch 82/100\n",
            "2/2 [==============================] - 0s 8ms/step - loss: 7.1591 - mae: 7.1591\n",
            "Epoch 83/100\n",
            "2/2 [==============================] - 0s 6ms/step - loss: 7.1504 - mae: 7.1504\n",
            "Epoch 84/100\n",
            "2/2 [==============================] - 0s 19ms/step - loss: 7.1505 - mae: 7.1505\n",
            "Epoch 85/100\n",
            "2/2 [==============================] - 0s 5ms/step - loss: 7.1418 - mae: 7.1418\n",
            "Epoch 86/100\n",
            "2/2 [==============================] - 0s 4ms/step - loss: 7.1310 - mae: 7.1310\n",
            "Epoch 87/100\n",
            "2/2 [==============================] - 0s 7ms/step - loss: 7.1138 - mae: 7.1138\n",
            "Epoch 88/100\n",
            "2/2 [==============================] - 0s 5ms/step - loss: 7.1054 - mae: 7.1054\n",
            "Epoch 89/100\n",
            "2/2 [==============================] - 0s 8ms/step - loss: 7.0908 - mae: 7.0908\n",
            "Epoch 90/100\n",
            "2/2 [==============================] - 0s 5ms/step - loss: 7.0984 - mae: 7.0984\n",
            "Epoch 91/100\n",
            "2/2 [==============================] - 0s 4ms/step - loss: 7.0906 - mae: 7.0906\n",
            "Epoch 92/100\n",
            "2/2 [==============================] - 0s 5ms/step - loss: 7.0908 - mae: 7.0908\n",
            "Epoch 93/100\n",
            "2/2 [==============================] - 0s 6ms/step - loss: 7.0819 - mae: 7.0819\n",
            "Epoch 94/100\n",
            "2/2 [==============================] - 0s 6ms/step - loss: 7.0616 - mae: 7.0616\n",
            "Epoch 95/100\n",
            "2/2 [==============================] - 0s 3ms/step - loss: 7.0438 - mae: 7.0438\n",
            "Epoch 96/100\n",
            "2/2 [==============================] - 0s 4ms/step - loss: 7.0465 - mae: 7.0465\n",
            "Epoch 97/100\n",
            "2/2 [==============================] - 0s 3ms/step - loss: 7.0295 - mae: 7.0295\n",
            "Epoch 98/100\n",
            "2/2 [==============================] - 0s 5ms/step - loss: 7.0211 - mae: 7.0211\n",
            "Epoch 99/100\n",
            "2/2 [==============================] - 0s 7ms/step - loss: 7.0124 - mae: 7.0124\n",
            "Epoch 100/100\n",
            "2/2 [==============================] - 0s 3ms/step - loss: 7.0049 - mae: 7.0049\n"
          ]
        },
        {
          "output_type": "execute_result",
          "data": {
            "text/plain": [
              "<keras.callbacks.History at 0x7fb620c27510>"
            ]
          },
          "metadata": {},
          "execution_count": 116
        }
      ]
    },
    {
      "cell_type": "code",
      "metadata": {
        "colab": {
          "base_uri": "https://localhost:8080/",
          "height": 312
        },
        "id": "TuoHNhlQkTFL",
        "outputId": "fdbf8f69-ae66-42bf-ae28-4d9c7e4288f1"
      },
      "source": [
        "plot_model(model=model4,show_shapes = True)"
      ],
      "id": "TuoHNhlQkTFL",
      "execution_count": 117,
      "outputs": [
        {
          "output_type": "execute_result",
          "data": {
            "image/png": "[encoded data removed]",
            "text/plain": [
              "<IPython.core.display.Image object>"
            ]
          },
          "metadata": {},
          "execution_count": 117
        }
      ]
    },
    {
      "cell_type": "markdown",
      "metadata": {
        "id": "dc7uGIlylC8m"
      },
      "source": [
        "##visualize Model predictions\n"
      ],
      "id": "dc7uGIlylC8m"
    },
    {
      "cell_type": "code",
      "metadata": {
        "id": "n4wRgxyykuqk"
      },
      "source": [
        "y_pred = model4.predict(X_test)"
      ],
      "id": "n4wRgxyykuqk",
      "execution_count": 118,
      "outputs": []
    },
    {
      "cell_type": "code",
      "metadata": {
        "colab": {
          "base_uri": "https://localhost:8080/"
        },
        "id": "EP3QvgKzlOu8",
        "outputId": "8c5d49b5-b560-4c8a-b49e-3ade98115b9a"
      },
      "source": [
        "y_pred #y_pred should be same size as y_test"
      ],
      "id": "EP3QvgKzlOu8",
      "execution_count": 119,
      "outputs": [
        {
          "output_type": "execute_result",
          "data": {
            "text/plain": [
              "array([[53.968464],\n",
              "       [57.51139 ],\n",
              "       [61.05431 ],\n",
              "       [64.59723 ],\n",
              "       [68.14016 ],\n",
              "       [71.683075],\n",
              "       [75.226   ],\n",
              "       [78.76892 ],\n",
              "       [82.31185 ],\n",
              "       [85.85477 ]], dtype=float32)"
            ]
          },
          "metadata": {},
          "execution_count": 119
        }
      ]
    },
    {
      "cell_type": "code",
      "metadata": {
        "colab": {
          "base_uri": "https://localhost:8080/"
        },
        "id": "L6S36bX6lU2Y",
        "outputId": "8538600e-7015-4236-df57-11fb591e6cdc"
      },
      "source": [
        "y_test"
      ],
      "id": "L6S36bX6lU2Y",
      "execution_count": 120,
      "outputs": [
        {
          "output_type": "execute_result",
          "data": {
            "text/plain": [
              "<tf.Tensor: shape=(10,), dtype=int32, numpy=array([ 70,  74,  78,  82,  86,  90,  94,  98, 102, 106], dtype=int32)>"
            ]
          },
          "metadata": {},
          "execution_count": 120
        }
      ]
    },
    {
      "cell_type": "code",
      "metadata": {
        "id": "CQjN2qr0mT3s"
      },
      "source": [
        "def plot_predictions(train_data = X_train,\n",
        "                     train_labels=y_train,\n",
        "                     test_data = X_test,\n",
        "                     test_labels = y_test,\n",
        "                     predictions = y_pred):\n",
        "  plt.figure(figsize=(10,7))\n",
        "  #plot train data in blue\n",
        "  plt.scatter(train_data,train_labels,c='b', label='train data')\n",
        "  plt.scatter(test_data,test_labels,c='g', label='test data')\n",
        "  plt.scatter(test_data,predictions,c='r',label='Predictions')\n",
        "\n",
        "  plt.legend();"
      ],
      "id": "CQjN2qr0mT3s",
      "execution_count": 121,
      "outputs": []
    },
    {
      "cell_type": "code",
      "metadata": {
        "colab": {
          "base_uri": "https://localhost:8080/",
          "height": 428
        },
        "id": "Sy8YBUZRniuf",
        "outputId": "2ebd5c7a-9118-4956-d1b7-c14404df4f9b"
      },
      "source": [
        "plot_predictions()"
      ],
      "id": "Sy8YBUZRniuf",
      "execution_count": 122,
      "outputs": [
        {
          "output_type": "display_data",
          "data": {
            "image/png": "[encoded data removed]",
            "text/plain": [
              "<Figure size 720x504 with 1 Axes>"
            ]
          },
          "metadata": {
            "needs_background": "light"
          }
        }
      ]
    },
    {
      "cell_type": "markdown",
      "metadata": {
        "id": "KU5njOm5onYs"
      },
      "source": [
        "##Using Evaluate metrics use evalutaion metrics to correct\n",
        "Since we are working ona regression, two of the main metrics are\n",
        "\n",
        "\n",
        "mae - use for smaller errors\n",
        "mse - use for larger errors\n"
      ],
      "id": "KU5njOm5onYs"
    },
    {
      "cell_type": "code",
      "metadata": {
        "colab": {
          "base_uri": "https://localhost:8080/"
        },
        "id": "mYHNpzKqnlJS",
        "outputId": "b24d241c-492f-4f2f-dd16-cb9c92d14a5a"
      },
      "source": [
        "model4.evaluate(X_test,y_test)"
      ],
      "id": "mYHNpzKqnlJS",
      "execution_count": 123,
      "outputs": [
        {
          "output_type": "stream",
          "name": "stdout",
          "text": [
            "1/1 [==============================] - 0s 158ms/step - loss: 18.0884 - mae: 18.0884\n"
          ]
        },
        {
          "output_type": "execute_result",
          "data": {
            "text/plain": [
              "[18.0883846282959, 18.0883846282959]"
            ]
          },
          "metadata": {},
          "execution_count": 123
        }
      ]
    },
    {
      "cell_type": "code",
      "metadata": {
        "colab": {
          "base_uri": "https://localhost:8080/"
        },
        "id": "LJnJIt5apTqy",
        "outputId": "ab2e3792-d1b6-4213-ee41-e273a0ae079d"
      },
      "source": [
        "tf.metrics.mean_absolute_error(y_true=y_test,y_pred= tf.squeeze(y_pred))\n",
        "#using tf squeeze due to extra dimension in y_pred"
      ],
      "id": "LJnJIt5apTqy",
      "execution_count": 131,
      "outputs": [
        {
          "output_type": "execute_result",
          "data": {
            "text/plain": [
              "<tf.Tensor: shape=(), dtype=float32, numpy=18.088383>"
            ]
          },
          "metadata": {},
          "execution_count": 131
        }
      ]
    },
    {
      "cell_type": "code",
      "metadata": {
        "colab": {
          "base_uri": "https://localhost:8080/"
        },
        "id": "u2uNR-KFpplx",
        "outputId": "45078ced-b50e-4f7d-f436-1f6f38eafde8"
      },
      "source": [
        "#Mean squarred error\n",
        "tf.metrics.mean_squared_error(y_true=y_test,y_pred= tf.squeeze(y_pred))\n",
        "#using tf squeeze due to extra dimension in y_pred\n"
      ],
      "id": "u2uNR-KFpplx",
      "execution_count": 133,
      "outputs": [
        {
          "output_type": "execute_result",
          "data": {
            "text/plain": [
              "<tf.Tensor: shape=(), dtype=float32, numpy=328.9132>"
            ]
          },
          "metadata": {},
          "execution_count": 133
        }
      ]
    },
    {
      "cell_type": "code",
      "metadata": {
        "id": "h-XrUwODqDXJ"
      },
      "source": [
        " "
      ],
      "id": "h-XrUwODqDXJ",
      "execution_count": 133,
      "outputs": []
    },
    {
      "cell_type": "code",
      "metadata": {
        "id": "2eYIy3cmqEie"
      },
      "source": [
        ""
      ],
      "id": "2eYIy3cmqEie",
      "execution_count": null,
      "outputs": []
    }
  ]
}