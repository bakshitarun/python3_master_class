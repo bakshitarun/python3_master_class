{
 "cells": [
  {
   "cell_type": "code",
   "execution_count": 1,
   "id": "1c65a219",
   "metadata": {},
   "outputs": [],
   "source": [
    "#Two Sum - problem 1\n",
    "#Given an array of integers nums and an integer target, return indices of the two numbers such that they add up to target.\n",
    "#You may assume that each input would have exactly one solution, and you may not use the same element twice.\n",
    "#You can return the answer in any order."
   ]
  },
  {
   "cell_type": "code",
   "execution_count": null,
   "id": "efd48c76",
   "metadata": {},
   "outputs": [],
   "source": [
    "class Solution:\n",
    "    def twoSum(self, nums: List[int], target: int) -> List[int]:\n",
    "        prevMap  = {}\n",
    "        for i, n in enumerate(nums):\n",
    "            diff = target - n\n",
    "            if diff in prevMap:\n",
    "                return [prevMap[diff], i]\n",
    "            prevMap[n] = i\n",
    "        return"
   ]
  }
 ],
 "metadata": {
  "kernelspec": {
   "display_name": "Python 3",
   "language": "python",
   "name": "python3"
  },
  "language_info": {
   "codemirror_mode": {
    "name": "ipython",
    "version": 3
   },
   "file_extension": ".py",
   "mimetype": "text/x-python",
   "name": "python",
   "nbconvert_exporter": "python",
   "pygments_lexer": "ipython3",
   "version": "3.8.8"
  }
 },
 "nbformat": 4,
 "nbformat_minor": 5
}
